{
 "cells": [
  {
   "cell_type": "markdown",
   "id": "372e06ce-22cc-425e-8258-5aab67f146a4",
   "metadata": {},
   "source": [
    "# Setup\n",
    "\n",
    "Create an environment to run the script. I used Poetry to create my environment, and I'll include steps for doing so below. If you want to use conda, that will work too.\n",
    "\n",
    "For these steps, I started in my `~/Code/musa/musa-509/` folder.\n",
    "\n",
    "```bash\n",
    "mkdir download_data\n",
    "cd download_data\n",
    "poetry init\n",
    "```\n",
    "\n",
    "Select the default options while running `poetry init`. The package we'll need in order to run the script is `requests`. To explore the data, we may also want to install `jupyterlab` and `jupyterlab-geojson`. Since I won't need those to run the script, I'll install them as development dependencies.\n",
    "\n",
    "```bash\n",
    "poetry add requests\n",
    "poetry add --dev jupyterlab jupyterlab-geojson\n",
    "```\n",
    "\n",
    "Now I can start exploring the data below."
   ]
  },
  {
   "cell_type": "markdown",
   "id": "c45f47bc-60e8-42e3-bbce-f8b7c7e0962f",
   "metadata": {},
   "source": [
    "# Exploration"
   ]
  },
  {
   "cell_type": "code",
   "execution_count": null,
   "id": "a384c912-19ff-4faa-b71a-d0168ff19ef1",
   "metadata": {},
   "outputs": [],
   "source": [
    "import requests"
   ]
  },
  {
   "cell_type": "code",
   "execution_count": null,
   "id": "4abfa8bb-62e9-4196-a71e-5a501bf33316",
   "metadata": {},
   "outputs": [],
   "source": [
    "response = requests.get(\"https://www.rideindego.com/stations/json/\")"
   ]
  },
  {
   "cell_type": "code",
   "execution_count": null,
   "id": "f360bff8-6e08-4ef5-8111-fc19594fe8c9",
   "metadata": {},
   "outputs": [],
   "source": [
    "response"
   ]
  },
  {
   "cell_type": "markdown",
   "id": "b267cff2-488c-4171-b616-a9e64a3126af",
   "metadata": {},
   "source": [
    "In Python, the [`dir`](https://docs.python.org/3/library/functions.html#dir) function will show us all of the methods and attributes that are available on an object."
   ]
  },
  {
   "cell_type": "code",
   "execution_count": null,
   "id": "29b60887-60ed-4315-8998-776bf7342992",
   "metadata": {},
   "outputs": [],
   "source": [
    "dir(response)"
   ]
  },
  {
   "cell_type": "markdown",
   "id": "68d963a7-3677-4233-b18d-83ab438bdcc1",
   "metadata": {},
   "source": [
    "We can refer to the Mozilla Developer Network (MDN) docs on [HTTP Messages](https://developer.mozilla.org/en-US/docs/Web/HTTP/Messages) for more information about each part of a web request and response. The interesting parts of the response above are:\n",
    "* `status_code`,\n",
    "* `headers`,\n",
    "* `content`, and\n",
    "* `json`"
   ]
  },
  {
   "cell_type": "code",
   "execution_count": null,
   "id": "52299e87-5e80-4c1e-8a7a-86384411783c",
   "metadata": {},
   "outputs": [],
   "source": [
    "response.status_code"
   ]
  },
  {
   "cell_type": "code",
   "execution_count": null,
   "id": "96ee0fdb-bb55-4270-9433-807277eac032",
   "metadata": {},
   "outputs": [],
   "source": [
    "response.headers"
   ]
  },
  {
   "cell_type": "code",
   "execution_count": null,
   "id": "926b5bcb-f65e-42e4-9ac7-6479c724a12e",
   "metadata": {},
   "outputs": [],
   "source": [
    "from IPython.display import JSON  # IPython's display helpers make output pretty"
   ]
  },
  {
   "cell_type": "code",
   "execution_count": null,
   "id": "9fe854db-1545-4833-8a8e-cf8b15b001ae",
   "metadata": {},
   "outputs": [],
   "source": [
    "JSON(dict(response.headers))"
   ]
  },
  {
   "cell_type": "code",
   "execution_count": null,
   "id": "a7bf8068-2895-447c-9711-b373a3262c70",
   "metadata": {
    "tags": []
   },
   "outputs": [],
   "source": [
    "response.content"
   ]
  },
  {
   "cell_type": "markdown",
   "id": "fd9abe64-72ff-42c1-8011-f83bc7a143bf",
   "metadata": {},
   "source": [
    "The content in the response above is JSON content. A tell-tale sign of JSON data is that it basically looks like a bunch of Python lists and dictionaries. We also could have inferred this from the URL that we sent the request to (an unreliable tell), or from the `Content-type` header value on the response (a reliable tell). Since the response is JSON, we can use the `json` function that's available on the object to parse the response content and store it as a dictionary."
   ]
  },
  {
   "cell_type": "code",
   "execution_count": null,
   "id": "fb52b176-673b-4ca4-ab29-de1337d12968",
   "metadata": {},
   "outputs": [],
   "source": [
    "data = response.json()"
   ]
  },
  {
   "cell_type": "code",
   "execution_count": null,
   "id": "445e7583-6726-412d-a7f0-65aca8b7a685",
   "metadata": {},
   "outputs": [],
   "source": [
    "data.keys()"
   ]
  },
  {
   "cell_type": "code",
   "execution_count": null,
   "id": "192b5f2c-7abf-41a9-9e43-91f5a2268ee8",
   "metadata": {},
   "outputs": [],
   "source": [
    "type(data['type'])"
   ]
  },
  {
   "cell_type": "code",
   "execution_count": null,
   "id": "c8d2bed2-fec3-44b8-a886-fbc616f99926",
   "metadata": {},
   "outputs": [],
   "source": [
    "type(data['features'])"
   ]
  },
  {
   "cell_type": "code",
   "execution_count": null,
   "id": "00a17d22-534e-414d-873b-bae5a2654a29",
   "metadata": {},
   "outputs": [],
   "source": [
    "data['type']"
   ]
  },
  {
   "cell_type": "markdown",
   "id": "2c73e5a6-2bf6-4a81-a3f3-9721575e6cd4",
   "metadata": {},
   "source": [
    "Because the JSON has two keys that are `type` and `features`, and the `type` value is `'FeatureCollection'`, it's a safe bet that we're looking at GeoJSON (read about [GeoJSON `FeatureCollection`](https://macwright.com/2015/03/23/geojson-second-bite.html#featurecollection)). Let's see how many features we have in the collection, and then let's look at the first feature."
   ]
  },
  {
   "cell_type": "code",
   "execution_count": null,
   "id": "07bd54a4-bb4f-4569-877b-fc8dc3849da3",
   "metadata": {},
   "outputs": [],
   "source": [
    "len(data['features'])"
   ]
  },
  {
   "cell_type": "code",
   "execution_count": null,
   "id": "0d9ce81e-bd60-4932-9d9f-3b46731c7843",
   "metadata": {},
   "outputs": [],
   "source": [
    "data['features'][0]"
   ]
  },
  {
   "cell_type": "markdown",
   "id": "a9b874e9-cb12-49d0-815f-e77835d993f0",
   "metadata": {},
   "source": [
    "Using another IPython display helper we can quickly get the data on a map."
   ]
  },
  {
   "cell_type": "code",
   "execution_count": null,
   "id": "6bcd3764-5f1f-4c1e-bab9-d81356468c30",
   "metadata": {},
   "outputs": [],
   "source": [
    "from IPython.display import GeoJSON"
   ]
  },
  {
   "cell_type": "code",
   "execution_count": null,
   "id": "fa84e1c7-dfca-4257-8e47-0452524fe42b",
   "metadata": {},
   "outputs": [],
   "source": [
    "GeoJSON(data)"
   ]
  }
 ],
 "metadata": {
  "kernelspec": {
   "display_name": "Python 3 (ipykernel)",
   "language": "python",
   "name": "python3"
  },
  "language_info": {
   "codemirror_mode": {
    "name": "ipython",
    "version": 3
   },
   "file_extension": ".py",
   "mimetype": "text/x-python",
   "name": "python",
   "nbconvert_exporter": "python",
   "pygments_lexer": "ipython3",
   "version": "3.8.10"
  }
 },
 "nbformat": 4,
 "nbformat_minor": 5
}
